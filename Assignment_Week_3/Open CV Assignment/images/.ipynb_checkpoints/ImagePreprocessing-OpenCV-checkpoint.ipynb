{
 "cells": [
  {
   "cell_type": "markdown",
   "id": "a57d17d9-a84a-4bfe-a335-18b67cc0db32",
   "metadata": {},
   "source": [
    "**RUN ALL THE CELLS AND DON'T EDIT ANY CELL**\n",
    "\n",
    "**CODE IN THE MENTIONED CELLS ONLY**"
   ]
  },
  {
   "cell_type": "markdown",
   "id": "be62504c-e291-4502-b880-5da1d3ec9ff7",
   "metadata": {},
   "source": [
    "## Import Necessary Files"
   ]
  },
  {
   "cell_type": "code",
   "execution_count": null,
   "id": "998981a4-938d-4f61-ac33-8f33b1417121",
   "metadata": {},
   "outputs": [],
   "source": [
    "import cv2\n",
    "import numpy as np\n",
    "import matplotlib.pyplot as plt"
   ]
  },
  {
   "cell_type": "markdown",
   "id": "75a7ca5c-7739-4d9c-835c-89e8f927bb59",
   "metadata": {},
   "source": [
    "Add ```/path/to/your/folder``` to load the images"
   ]
  },
  {
   "cell_type": "code",
   "execution_count": null,
   "id": "ff141a98-3ddb-4bc5-aff0-a0d48071e377",
   "metadata": {},
   "outputs": [],
   "source": [
    "cartoon = cv2.imread(\"/path/to/your/folder/cartoon.bmp\")\n",
    "cartoon_y = cv2.imread(\"/path/to/your/folder/cartoon_y.jpg\")\n",
    "girl = cv2.imread(\"/path/to/your/folder/girl.png\") #grayscale image\n",
    "girl_y = cv2.imread(\"/path/to/your/folder/girl_y.jpg\")\n",
    "fingerprint = cv2.imread(\"/path/to/your/folder/fingerprint.jpg\")\n",
    "fingerprint_y = cv2.imread(\"/path/to/your/folder/fingerprint_y.jpg\")"
   ]
  },
  {
   "cell_type": "markdown",
   "id": "174718bd-90c7-46c0-b018-b15be8dd4a6d",
   "metadata": {},
   "source": [
    "## Raw and Final Image\n",
    "You need to process the raw images: ```cartoon, girl, fingerprint``` to get the processed images: ```cartoon_y, girl_y, fingerprint_y```\n",
    "\n",
    "Your processed image need not be 100% alike given processed image. They are given to give you an idea of what to process in the raw images."
   ]
  },
  {
   "cell_type": "code",
   "execution_count": null,
   "id": "3638c757-ff4b-4622-b4f2-dc3acffabae3",
   "metadata": {},
   "outputs": [],
   "source": [
    "fig, axs = plt.subplots(3,2,figsize=(8,12))\n",
    "axs[0,0].imshow(cv2.cvtColor(cartoon,cv2.COLOR_BGR2RGB))\n",
    "axs[0,1].imshow(cartoon_y)\n",
    "axs[0,0].axis(\"off\")\n",
    "axs[0,1].axis(\"off\")\n",
    "axs[0,0].set_title(\"Raw\")\n",
    "axs[0,1].set_title(\"Masked\")\n",
    "axs[1,0].imshow(girl)\n",
    "axs[1,1].imshow(girl_y)\n",
    "axs[1,0].axis(\"off\")\n",
    "axs[1,1].axis(\"off\")\n",
    "axs[1,0].set_title(\"Raw\")\n",
    "axs[1,1].set_title(\"Edges\")\n",
    "axs[2,0].imshow(cv2.cvtColor(fingerprint,cv2.COLOR_BGR2RGB))\n",
    "axs[2,1].imshow(fingerprint_y)\n",
    "axs[2,0].axis(\"off\")\n",
    "axs[2,1].axis(\"off\")\n",
    "axs[2,0].set_title(\"Raw\")\n",
    "axs[2,1].set_title(\"Binary\")\n",
    "plt.show()"
   ]
  },
  {
   "cell_type": "markdown",
   "id": "c7b6f679-6153-4fad-b6ec-0d0bf133775f",
   "metadata": {},
   "source": [
    "## Code in the following 3 cells only"
   ]
  },
  {
   "cell_type": "markdown",
   "id": "9ca454f5-55bc-4cae-9ba0-25e00fd34d35",
   "metadata": {},
   "source": [
    "### Cartoon\n",
    "For the bart image, you need to mask the dress. Write all your code in the cell below and the final image should be stored in ```cartoon_y_mentee``` variable only or it'll show error later."
   ]
  },
  {
   "cell_type": "code",
   "execution_count": null,
   "id": "d6659747-9da3-48a3-9ee9-0858f62b702f",
   "metadata": {},
   "outputs": [],
   "source": [
    "#START CODE HERE (Do all your processing here)\n",
    "\n",
    "cartoon_y_mentee = None #(in BGR format only)\n",
    "\n",
    "#END CODE HERE (the final processed image should be cartoon_y_mentee)"
   ]
  },
  {
   "cell_type": "markdown",
   "id": "9cd5295a-d3e2-4889-a1c8-0f956ef528c8",
   "metadata": {},
   "source": [
    "### Girl\n",
    "For the girl image, you need to detect the edges. Write all your code in the cell below and the final image should be stored in ```girl_y_mentee``` variable only or it'll show error later."
   ]
  },
  {
   "cell_type": "code",
   "execution_count": null,
   "id": "80ac55b4-f34c-4f5d-af7c-f6df602f56f8",
   "metadata": {},
   "outputs": [],
   "source": [
    "#START CODE HERE (Do all your processing here)\n",
    "\n",
    "girl_y_mentee = None\n",
    "\n",
    "#END CODE HERE (the final processed image should be girl_y_mentee)"
   ]
  },
  {
   "cell_type": "markdown",
   "id": "8bc35193-0397-4e48-a198-bd17f4cffaa6",
   "metadata": {},
   "source": [
    "### Fingerprint\n",
    "For the fingerprint image, you need to convert it to binary image. Binary images have 2 intensities only (0 or 255). Write all your code in the cell below and the final image should be stored in ```cartoon_y_mentee``` variable only or it'll show error later."
   ]
  },
  {
   "cell_type": "code",
   "execution_count": null,
   "id": "c183ef1c-74a3-47db-9322-b0f78636e8a2",
   "metadata": {},
   "outputs": [],
   "source": [
    "#START CODE HERE (Do all your processing here)\n",
    "\n",
    "fingerprint_y_mentee = None #(in Binary format only i.e. pixel intensity = 0 or 255)\n",
    "\n",
    "#END CODE HERE (the final processed image should be fingerprint_y_mentee)"
   ]
  },
  {
   "cell_type": "markdown",
   "id": "23a6edaf-aea5-410d-b897-3b12aa1113b2",
   "metadata": {},
   "source": [
    "## Comparison"
   ]
  },
  {
   "cell_type": "code",
   "execution_count": null,
   "id": "23d388f3-a17a-4e99-9845-c9ef26e16283",
   "metadata": {},
   "outputs": [],
   "source": [
    "fig, axs1 = plt.subplots(3,2,figsize=(8,12))\n",
    "axs1[0,0].imshow(cartoon_y_mentee)\n",
    "axs1[0,1].imshow(cartoon_y)\n",
    "axs1[0,0].axis(\"off\")\n",
    "axs1[0,1].axis(\"off\")\n",
    "axs1[0,0].set_title(\"Masked_Mentee\")\n",
    "axs1[0,1].set_title(\"Masked\")\n",
    "axs1[1,0].imshow(girl_y_mentee,cmap=\"gray\")\n",
    "axs1[1,1].imshow(girl_y)\n",
    "axs1[1,0].axis(\"off\")\n",
    "axs1[1,1].axis(\"off\")\n",
    "axs1[1,0].set_title(\"Edges_Mentee\")\n",
    "axs1[1,1].set_title(\"Edges\")\n",
    "axs1[2,0].imshow(fingerprint_y_mentee,cmap=\"gray\")\n",
    "axs1[2,1].imshow(fingerprint_y)\n",
    "axs1[2,0].axis(\"off\")\n",
    "axs1[2,1].axis(\"off\")\n",
    "axs1[2,0].set_title(\"Binary_Mentee\")\n",
    "axs1[2,1].set_title(\"Binary\")\n",
    "plt.show()"
   ]
  }
 ],
 "metadata": {
  "kernelspec": {
   "display_name": "Python 3 (ipykernel)",
   "language": "python",
   "name": "python3"
  },
  "language_info": {
   "codemirror_mode": {
    "name": "ipython",
    "version": 3
   },
   "file_extension": ".py",
   "mimetype": "text/x-python",
   "name": "python",
   "nbconvert_exporter": "python",
   "pygments_lexer": "ipython3",
   "version": "3.11.4"
  }
 },
 "nbformat": 4,
 "nbformat_minor": 5
}
